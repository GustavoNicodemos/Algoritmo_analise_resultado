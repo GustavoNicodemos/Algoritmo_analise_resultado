{
  "nbformat": 4,
  "nbformat_minor": 0,
  "metadata": {
    "colab": {
      "provenance": [],
      "authorship_tag": "ABX9TyOqrk7flPF8OkTbguxu4dDw",
      "include_colab_link": true
    },
    "kernelspec": {
      "name": "python3",
      "display_name": "Python 3"
    },
    "language_info": {
      "name": "python"
    }
  },
  "cells": [
    {
      "cell_type": "markdown",
      "metadata": {
        "id": "view-in-github",
        "colab_type": "text"
      },
      "source": [
        "<a href=\"https://colab.research.google.com/github/GustavoNicodemos/Algoritmo_analise_resultado/blob/main/Algoritmo_Anlise_GUV.ipynb\" target=\"_parent\"><img src=\"https://colab.research.google.com/assets/colab-badge.svg\" alt=\"Open In Colab\"/></a>"
      ]
    },
    {
      "cell_type": "code",
      "execution_count": 27,
      "metadata": {
        "id": "DYmSxECgRUwk"
      },
      "outputs": [],
      "source": [
        "import numpy as np\n",
        "import pandas as pd\n",
        "from sklearn.ensemble import IsolationForest\n",
        "from sklearn.cluster import MiniBatchKMeans\n",
        "from sklearn.preprocessing import OneHotEncoder\n",
        "import xgboost as xgb"
      ]
    },
    {
      "cell_type": "code",
      "source": [
        "# ==============================================================\n",
        "# Classe principal para análise contábil automatizada\n",
        "# ==============================================================\n",
        "class AccountingAnalyzer:\n",
        "  \"\"\"\n",
        "    Classe para análise contábil automatizada:\n",
        "    - Fase de treino separada da fase de análise.\n",
        "    - Detecta anomalias, agrupa clusters e gera explicações.\n",
        "    \"\"\"\n",
        "  def __init__(self):\n",
        "        # Modelos utilizados na análise\n",
        "        self.anomaly_detector = IsolationForest(n_estimators=100, contamination=0.05, random_state=42)\n",
        "        self.clusterer = MiniBatchKMeans(n_clusters=5, random_state=42)\n",
        "        self.encoder = OneHotEncoder(sparse_output=False, handle_unknown='ignore')\n",
        "        self.classifier = xgb.XGBClassifier()\n",
        "        self.history = pd.DataFrame()  # Armazena dados já analisados\n",
        "        self.treinou = False  # Indica se o modelo foi treinado\n",
        "\n",
        "  def fit(self, historical_data):\n",
        "        \"\"\"\n",
        "        Treina o modelo de detecção de anomalias com base em dados históricos.\n",
        "        \"\"\"\n",
        "        features = self._preprocess(dados_historicos)\n",
        "        self.anomaly_detector.fit(features)\n",
        "        self.treinou = True\n",
        "        print(\"✅ Modelo treinado com sucesso com base histórica.\")\n",
        "\n",
        "  def analyze(self, new_data):\n",
        "        \"\"\"Analisa os novos dados com o modelo previamente treinado.\"\"\"\n",
        "        if not self.treinou:\n",
        "            raise ValueError(\"❌ O modelo precisa ser treinado antes da análise. Use o método .fit() com dados históricos.\")\n",
        "        # Remove duplicados com base no histórico já analisado\n",
        "        new_data = self._check_history(new_data)\n",
        "        # Pré-processamento (mesmas transformações do treino)\n",
        "        features = self._preprocess(new_data)\n",
        "\n",
        "        # Detectar anomalias\n",
        "        new_data['anomaly'] = self.anomaly_detector.fit_predict(features)\n",
        "\n",
        "        # Agrupar em clusters\n",
        "        new_data['cluster'] = self.clusterer.fit_predict(features)\n",
        "\n",
        "        # Classificar tipo de problema se o modelo já foi treinado\n",
        "        if not self.history.empty and hasattr(self.classifier, 'classes_'):\n",
        "            model_features = self._create_features(new_data)\n",
        "            new_data['problem_type'] = self.classifier.predict(model_features)\n",
        "\n",
        "        # Atualiza o histórico\n",
        "        self._update_history(new_data)\n",
        "\n",
        "        # Retorna relatório consolidado\n",
        "        return self._generate_report(new_data)\n",
        "\n",
        "  def _check_history(self, data):\n",
        "        \"\"\"Remove dados já analisados anteriormente.\"\"\"\n",
        "        if self.history.empty:\n",
        "            return data\n",
        "        return data[~data.index.isin(self.history.index)]\n",
        "\n",
        "  def _preprocess(self, data):\n",
        "        \"\"\"Codifica dados categóricos e prepara os dados numéricos.\"\"\"\n",
        "        cat_data = self.encoder.fit_transform(data[['Cost_Center', 'Group_Account']])\n",
        "        num_data = data[['Amount_in_LC']].values\n",
        "        return np.hstack([num_data, cat_data])\n",
        "\n",
        "  def _create_features(self, data):\n",
        "        \"\"\"Gera features adicionais para o classificador.\"\"\"\n",
        "        cat_data = self.encoder.transform(data[['Cost_Center', 'Group_Account']])\n",
        "        num_data = data[['Amount_in_LC', 'anomaly', 'cluster']].values\n",
        "        return np.hstack([num_data, cat_data])\n",
        "\n",
        "  def _update_history(self, data):\n",
        "        \"\"\"Salva os dados já analisados para evitar repetições futuras.\"\"\"\n",
        "        self.history = pd.concat([self.history, data], ignore_index=True)\n",
        "\n",
        "  def _generate_explanations(self, data):\n",
        "        \"\"\"Gera justificativas automáticas para anomalias.\"\"\"\n",
        "        explanations = []\n",
        "        for _, row in data.iterrows():\n",
        "            if row['anomaly'] == -1:\n",
        "                explanations.append(f\"Valor atípico detectado em {row['Cost_Center']} - {row['Group_Account']}\")\n",
        "            else:\n",
        "                explanations.append(\"Sem anomalias.\")\n",
        "        return explanations\n",
        "\n",
        "  def _analyze_clusters(self, data):\n",
        "        \"\"\"Faz a análise dos agrupamentos por cluster.\"\"\"\n",
        "        return data.groupby(['cluster', 'Group_Account']).agg({'Amount_in_LC': ['mean', 'count']}).reset_index()\n",
        "\n",
        "  def _generate_report(self, data):\n",
        "        \"\"\"Compila o relatório final da análise.\"\"\"\n",
        "        return {\n",
        "            'anomalias_df': data[data['anomaly'] == -1],\n",
        "            'clusters_df': self._analyze_clusters(data),\n",
        "            'explicacoes_df': pd.DataFrame({'explicacoes': self._generate_explanations(data)})\n",
        "        }\n",
        "\n"
      ],
      "metadata": {
        "id": "fiCQwhzjRy2L"
      },
      "execution_count": 33,
      "outputs": []
    },
    {
      "cell_type": "code",
      "source": [
        "# ==============================================================\n",
        "# Execução do algoritmo\n",
        "# ==============================================================\n",
        "if __name__ == \"__main__\":\n",
        "    base_dados = pd.read_excel('Dados_GUV.xlsx')\n",
        "    dados_historicos = pd.read_excel('Dados_historicos_GUV.xlsx')\n",
        "    analisador = AccountingAnalyzer()\n",
        "    analisador.fit(dados_historicos)\n",
        "    relatorio = analisador.analyze(base_dados)\n",
        "\n",
        "    # Armazena os dados em variáveis para visualização\n",
        "    anomalias_df = relatorio['anomalias_df']\n",
        "    clusters_df = relatorio['clusters_df']\n",
        "    explicacoes_df = relatorio['explicacoes_df']\n",
        "\n",
        ""
      ],
      "metadata": {
        "id": "ipN3LzywR60M",
        "colab": {
          "base_uri": "https://localhost:8080/"
        },
        "collapsed": true,
        "outputId": "89af7fc0-dbe1-47e0-c898-859cac9b22e9"
      },
      "execution_count": 39,
      "outputs": [
        {
          "output_type": "stream",
          "name": "stdout",
          "text": [
            "✅ Modelo treinado com sucesso com base histórica.\n"
          ]
        }
      ]
    },
    {
      "cell_type": "code",
      "source": [
        " # Gera Output Excel\n",
        "anomalias_df.to_excel('anomalias_df.xlsx', index=False)\n",
        "clusters_df.columns = ['_'.join(col).strip() if isinstance(col, tuple) else col for col in clusters_df.columns]\n",
        "clusters_df.to_excel('clusters_df.xlsx', index=False)\n",
        "explicacoes_df.to_excel('explicacoes_df.xlsx', index=False)"
      ],
      "metadata": {
        "id": "_Wm-uXepfrIm"
      },
      "execution_count": 40,
      "outputs": []
    }
  ]
}